{
 "cells": [
  {
   "attachments": {},
   "cell_type": "markdown",
   "id": "e92fa29f-0b1a-4ea4-b536-9cfdd47dda91",
   "metadata": {},
   "source": [
    "# Python Refresher:"
   ]
  },
  {
   "cell_type": "code",
   "execution_count": 5,
   "id": "c23ad113-a9be-488f-9e71-a6893f23ba3e",
   "metadata": {
    "tags": []
   },
   "outputs": [],
   "source": [
    "#Import the required libraries\n",
    "import pandas as pd\n",
    "import numpy as np\n",
    "import matplotlib.pyplot as plt\n"
   ]
  }
 ],
 "metadata": {
  "kernelspec": {
   "display_name": "Python 3 (ipykernel)",
   "language": "python",
   "name": "python3"
  },
  "language_info": {
   "codemirror_mode": {
    "name": "ipython",
    "version": 3
   },
   "file_extension": ".py",
   "mimetype": "text/x-python",
   "name": "python",
   "nbconvert_exporter": "python",
   "pygments_lexer": "ipython3",
   "version": "3.10.4"
  }
 },
 "nbformat": 4,
 "nbformat_minor": 5
}
