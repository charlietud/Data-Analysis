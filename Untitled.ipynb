{
 "cells": [
  {
   "attachments": {},
   "cell_type": "markdown",
   "id": "e92fa29f-0b1a-4ea4-b536-9cfdd47dda91",
   "metadata": {},
   "source": [
    "# Python Refresher:"
   ]
  },
  {
   "attachments": {},
   "cell_type": "markdown",
   "id": "b96b3142",
   "metadata": {},
   "source": [
    "This will be a small repository where I'll be saving examples of useful Python methods/functions often used by Data Scientists/Analysts in real world scenarios. "
   ]
  },
  {
   "cell_type": "code",
   "execution_count": null,
   "id": "c23ad113-a9be-488f-9e71-a6893f23ba3e",
   "metadata": {
    "tags": [],
    "vscode": {
     "languageId": "python"
    }
   },
   "outputs": [],
   "source": [
    "#Import the required libraries\n",
    "import pandas as pd\n",
    "import numpy as np\n",
    "import matplotlib.pyplot as plt\n",
    "\n",
    "#Importing the csv file\n",
    "homelessness = pd.read_csv('homelessness.csv')\n",
    "\n",
    "#Print first 5 elems\n",
    "print(homelessness.head())"
   ]
  },
  {
   "attachments": {},
   "cell_type": "markdown",
   "id": "04092fc3",
   "metadata": {},
   "source": [
    "### Subsetting categorical variables is a breeze by using the .isin method"
   ]
  },
  {
   "cell_type": "code",
   "execution_count": null,
   "id": "4239376e",
   "metadata": {
    "vscode": {
     "languageId": "python"
    }
   },
   "outputs": [],
   "source": [
    "#Trying the .isin method\n",
    "canu = ['California', 'Arizona', 'Nevada', 'Utah']\n",
    "\n",
    "#Filter for Rows in the Mojave Desert states\n",
    "mojave_states = homelessness[homelessness['state'].isin(canu)]\n",
    "\n",
    "#print\n",
    "print(mojave_states)"
   ]
  },
  {
   "attachments": {},
   "cell_type": "markdown",
   "id": "8c9dcb49",
   "metadata": {},
   "source": [
    "### Two methods to loop through a dictionary and/or Numpy array "
   ]
  },
  {
   "attachments": {},
   "cell_type": "markdown",
   "id": "1af8bbef",
   "metadata": {},
   "source": [
    "- The items method (for dictionary loops)"
   ]
  },
  {
   "cell_type": "code",
   "execution_count": null,
   "id": "62c88f4d",
   "metadata": {
    "vscode": {
     "languageId": "python"
    }
   },
   "outputs": [],
   "source": [
    "dict = {\n",
    "    'name': 'Carlos',\n",
    "    'age': 27\n",
    "}\n",
    "\n",
    "for key, val in dict.items() :\n",
    "    print(f'The key is {key} and the value is {val}')"
   ]
  },
  {
   "attachments": {},
   "cell_type": "markdown",
   "id": "f1d71cc5",
   "metadata": {},
   "source": [
    "- The nditer function (for numpy arrays, both 1D and 2D)"
   ]
  },
  {
   "cell_type": "code",
   "execution_count": null,
   "id": "4e4edf8c",
   "metadata": {
    "vscode": {
     "languageId": "python"
    }
   },
   "outputs": [],
   "source": [
    "my_array = np.array([(1,2,3,4,5),(6,7,8,9,10)])\n",
    "\n",
    "for val in np.nditer(my_array) :\n",
    "    print(val)"
   ]
  },
  {
   "attachments": {},
   "cell_type": "markdown",
   "id": "b67b3f16",
   "metadata": {},
   "source": [
    "- Iterating through a Panda's DataFrame by using the iterrows method"
   ]
  },
  {
   "cell_type": "code",
   "execution_count": null,
   "id": "f67f1882",
   "metadata": {
    "vscode": {
     "languageId": "python"
    }
   },
   "outputs": [],
   "source": []
  }
 ],
 "metadata": {
  "kernelspec": {
   "display_name": "Python 3 (ipykernel)",
   "language": "python",
   "name": "python3"
  }
 },
 "nbformat": 4,
 "nbformat_minor": 5
}
