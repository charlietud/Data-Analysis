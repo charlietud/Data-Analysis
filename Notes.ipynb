{
 "cells": [
  {
   "attachments": {},
   "cell_type": "markdown",
   "id": "e92fa29f-0b1a-4ea4-b536-9cfdd47dda91",
   "metadata": {},
   "source": [
    "# Python Refresher:"
   ]
  },
  {
   "attachments": {},
   "cell_type": "markdown",
   "id": "b96b3142",
   "metadata": {},
   "source": [
    "This will be a small repository where I'll be saving examples of useful Python methods/functions often used by Data Scientists/Analysts in real world scenarios.\n",
    "It will contain methods/functions from various libraries such as Matplotlib, NumPy and Pandas."
   ]
  },
  {
   "cell_type": "code",
   "execution_count": 1,
   "id": "c23ad113-a9be-488f-9e71-a6893f23ba3e",
   "metadata": {
    "tags": []
   },
   "outputs": [
    {
     "name": "stdout",
     "output_type": "stream",
     "text": [
      "               region       state  individuals  family_members  state_pop\n",
      "0  East South Central     Alabama       2570.0           864.0    4887681\n",
      "1             Pacific      Alaska       1434.0           582.0     735139\n",
      "2            Mountain     Arizona       7259.0          2606.0    7158024\n",
      "3  West South Central    Arkansas       2280.0           432.0    3009733\n",
      "4             Pacific  California     109008.0         20964.0   39461588\n"
     ]
    }
   ],
   "source": [
    "#Import the required libraries\n",
    "import pandas as pd\n",
    "import numpy as np\n",
    "import matplotlib.pyplot as plt\n",
    "\n",
    "#Importing the csv files\n",
    "homelessness = pd.read_csv('homelessness.csv')\n",
    "cars = pd.read_csv('cars.csv')\n",
    "\n",
    "#Print first 5 elems\n",
    "print(homelessness.head())"
   ]
  },
  {
   "attachments": {},
   "cell_type": "markdown",
   "id": "04092fc3",
   "metadata": {},
   "source": [
    "### Subsetting categorical variables is a breeze by using the .isin method"
   ]
  },
  {
   "cell_type": "code",
   "execution_count": 28,
   "id": "4239376e",
   "metadata": {},
   "outputs": [
    {
     "name": "stdout",
     "output_type": "stream",
     "text": [
      "      region       state  individuals  family_members  state_pop\n",
      "2   Mountain     Arizona       7259.0          2606.0    7158024\n",
      "4    Pacific  California     109008.0         20964.0   39461588\n",
      "28  Mountain      Nevada       7058.0           486.0    3027341\n",
      "44  Mountain        Utah       1904.0           972.0    3153550\n"
     ]
    }
   ],
   "source": [
    "#Trying the .isin method\n",
    "canu = ['California', 'Arizona', 'Nevada', 'Utah']\n",
    "\n",
    "#Filter for Rows in the Mojave Desert states\n",
    "mojave_states = homelessness[homelessness['state'].isin(canu)]\n",
    "\n",
    "#print\n",
    "print(mojave_states)"
   ]
  },
  {
   "attachments": {},
   "cell_type": "markdown",
   "id": "8c9dcb49",
   "metadata": {},
   "source": [
    "### Methods to loop through a dictionary and/or Numpy array, and a Pandas DataFrame/Series "
   ]
  },
  {
   "attachments": {},
   "cell_type": "markdown",
   "id": "1af8bbef",
   "metadata": {},
   "source": [
    "- The items method (for dictionary loops)"
   ]
  },
  {
   "cell_type": "code",
   "execution_count": null,
   "id": "62c88f4d",
   "metadata": {},
   "outputs": [],
   "source": [
    "dict = {\n",
    "    'name': 'Carlos',\n",
    "    'age': 27\n",
    "}\n",
    "\n",
    "for key, val in dict.items() :\n",
    "    print(f'The key is {key} and the value is {val}')"
   ]
  },
  {
   "attachments": {},
   "cell_type": "markdown",
   "id": "f1d71cc5",
   "metadata": {},
   "source": [
    "- The nditer function (for numpy arrays, both 1D and 2D)"
   ]
  },
  {
   "cell_type": "code",
   "execution_count": null,
   "id": "4e4edf8c",
   "metadata": {},
   "outputs": [],
   "source": [
    "my_array = np.array([(1,2,3,4,5),(6,7,8,9,10)])\n",
    "\n",
    "for val in np.nditer(my_array) :\n",
    "    print(val)"
   ]
  },
  {
   "attachments": {},
   "cell_type": "markdown",
   "id": "b67b3f16",
   "metadata": {},
   "source": [
    "- Iterating through a Panda's DataFrame by using the iterrows method"
   ]
  },
  {
   "cell_type": "code",
   "execution_count": null,
   "id": "f67f1882",
   "metadata": {},
   "outputs": [],
   "source": [
    "print(cars.head())\n",
    "for lab, row in cars.iterrows() :\n",
    "    print(lab)\n",
    "    print(row)"
   ]
  },
  {
   "attachments": {},
   "cell_type": "markdown",
   "id": "8034c7fc",
   "metadata": {},
   "source": [
    "- We can also select variables from the DataFrame by using square brackets"
   ]
  },
  {
   "cell_type": "code",
   "execution_count": null,
   "id": "1c12fea4",
   "metadata": {},
   "outputs": [],
   "source": [
    "for lab, row in cars.iterrows() :\n",
    "    print(f\"Label {lab}: is {row['cars_per_cap']}\")"
   ]
  },
  {
   "attachments": {},
   "cell_type": "markdown",
   "id": "96818758",
   "metadata": {},
   "source": [
    "- We can also use the iterrows method to add new columns "
   ]
  },
  {
   "cell_type": "code",
   "execution_count": null,
   "id": "425ad595",
   "metadata": {},
   "outputs": [],
   "source": [
    "for lab, row in cars.iterrows() :\n",
    "    cars.loc[lab, 'COUNTRY'] = row['country'].upper()\n",
    "\n",
    "print(cars)"
   ]
  },
  {
   "attachments": {},
   "cell_type": "markdown",
   "id": "12d28129",
   "metadata": {},
   "source": [
    "## Other useful stuff"
   ]
  },
  {
   "attachments": {},
   "cell_type": "markdown",
   "id": "bad68f0b",
   "metadata": {},
   "source": [
    "How to count ocurrences in NumPy arrays"
   ]
  },
  {
   "cell_type": "code",
   "execution_count": null,
   "id": "e8c97f59",
   "metadata": {},
   "outputs": [],
   "source": [
    "array = np.array([1,2,3,4,5])\n",
    "\n",
    "np.count_nonzero(array == 2)\n",
    "np.count_nonzero((array == 2) | (array == 3))"
   ]
  },
  {
   "attachments": {},
   "cell_type": "markdown",
   "id": "401890c8",
   "metadata": {},
   "source": [
    "## Loc and Iloc practice"
   ]
  },
  {
   "cell_type": "code",
   "execution_count": null,
   "id": "37397ba4",
   "metadata": {},
   "outputs": [],
   "source": [
    "print(homelessness.info())\n",
    "print(homelessness[['region', 'individuals']])\n",
    "print(homelessness.loc[7, 'region'])"
   ]
  },
  {
   "cell_type": "code",
   "execution_count": null,
   "id": "33cf1792",
   "metadata": {},
   "outputs": [],
   "source": [
    "print(homelessness.head(8))\n",
    "\n",
    "#Since we are dealing with DataFrames, we are required to use the following syntax: [[]]\n",
    "print(homelessness.loc[[1,7], ['state', 'region']])\n",
    "print(homelessness.iloc[:, [1,2,3]])\n",
    "\n",
    "#Getting single values\n",
    "print(homelessness.loc[0, 'state'])\n",
    "\n",
    "#We can also get values without the previous methods by using square breackets\n",
    "print(homelessness['region'][0])"
   ]
  },
  {
   "attachments": {},
   "cell_type": "markdown",
   "id": "3128f702",
   "metadata": {},
   "source": [
    "### ~~~~~~~~~~~~~~~~~~~~~~~~~~~~~~~~~~~~~~~~~~~~"
   ]
  },
  {
   "attachments": {},
   "cell_type": "markdown",
   "id": "896448ca",
   "metadata": {},
   "source": [
    "# Summary Statistics"
   ]
  },
  {
   "attachments": {},
   "cell_type": "markdown",
   "id": "c37f2557",
   "metadata": {},
   "source": [
    "There are multiple methods that can be used when trying to get a bit of information from a DataFrame before getting deeper into it."
   ]
  },
  {
   "cell_type": "code",
   "execution_count": null,
   "id": "92858f6b",
   "metadata": {},
   "outputs": [],
   "source": [
    "#We have the .head method, which gives us the first 5 rows of a DataFrame (we can set a specific limit as a parameter)\n",
    "head = cars.head(7)\n",
    "print(head)\n",
    "\n",
    "#The .info method is also very useful, it gives us the columns of a specific DataFrame\n",
    "columns = cars.info()\n",
    "print(columns)\n",
    "\n",
    "#The .describe method gives us a nice summarized statistic piece of info\n",
    "summary = cars.describe()\n",
    "print(summary)\n",
    "\n",
    "#We also got 'standalone' .mean and .median methods\n",
    "mean = cars['cars_per_cap'].mean()\n",
    "median = cars['cars_per_cap'].median()\n",
    "print(f'Mean is {mean} and Median is {median}')"
   ]
  },
  {
   "cell_type": "code",
   "execution_count": null,
   "id": "941abe04",
   "metadata": {},
   "outputs": [],
   "source": [
    "#Min and max methods are also available\n",
    "min = cars['cars_per_cap'].min()\n",
    "max = cars['cars_per_cap'].max()\n",
    "print(f'Min is {min} and Max is {max}')\n",
    "\n",
    "#We can also get the index of the max and min values\n",
    "idx_max = cars['cars_per_cap'].idxmax()\n",
    "idx_min = cars['cars_per_cap'].idxmin()\n",
    "print(f'Index of max is {idx_max} and Index of min is {idx_min}')\n",
    "\n",
    "print(cars['cars_per_cap'].min())"
   ]
  },
  {
   "attachments": {},
   "cell_type": "markdown",
   "id": "d9361268",
   "metadata": {},
   "source": [
    "### Efficient summaries \n",
    "The .agg method allows you to apply your own custom functions to a DataFrame, as well as apply functions to more than one column at once, making your aggregations efficient. "
   ]
  },
  {
   "cell_type": "code",
   "execution_count": null,
   "id": "14c8805a",
   "metadata": {},
   "outputs": [],
   "source": [
    "#A custom IQR function\n",
    "def iqr(column) :\n",
    "    return column.quantile(0.75) - column.quantile(0.25)\n",
    "\n",
    "#We can use the .agg method to apply a function to a DataFrame\n",
    "summary = cars['cars_per_cap'].agg(iqr)\n",
    "print(summary)"
   ]
  },
  {
   "cell_type": "code",
   "execution_count": null,
   "id": "1c142c65",
   "metadata": {},
   "outputs": [],
   "source": [
    "#You can also apply it to multiple columns and use multiple functions as well (note that you must use a list if you want to use multiple functions)\n",
    "fun = [iqr, np.mean]\n",
    "cars['ID'] = [1,2,3,4,5,6,7]\n",
    "\n",
    "print(cars['cars_per_cap'].agg(fun))\n",
    "print(cars['ID'].agg(np.max))"
   ]
  }
 ],
 "metadata": {
  "kernelspec": {
   "display_name": "Python 3 (ipykernel)",
   "language": "python",
   "name": "python3"
  },
  "language_info": {
   "codemirror_mode": {
    "name": "ipython",
    "version": 3
   },
   "file_extension": ".py",
   "mimetype": "text/x-python",
   "name": "python",
   "nbconvert_exporter": "python",
   "pygments_lexer": "ipython3",
   "version": "3.10.4"
  }
 },
 "nbformat": 4,
 "nbformat_minor": 5
}
